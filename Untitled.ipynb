{
 "cells": [
  {
   "cell_type": "code",
   "execution_count": 5,
   "id": "f00431b4",
   "metadata": {},
   "outputs": [],
   "source": [
    "#TMDB\n",
    "#example api call: \n",
    "#https://api.themoviedb.org/3/movie/550?api_key={api-key}\n",
    "#theres a python wrapper for better api extraction"
   ]
  },
  {
   "cell_type": "code",
   "execution_count": 14,
   "id": "7ee1dd07",
   "metadata": {},
   "outputs": [],
   "source": [
    "import pandas as pd\n",
    "import numpy as np\n",
    "import os \n",
    "import time \n",
    "import seaborn\n",
    "import json\n",
    "import tmdbsimple as tmdb"
   ]
  },
  {
   "cell_type": "code",
   "execution_count": 9,
   "id": "fd368489",
   "metadata": {},
   "outputs": [
    {
     "data": {
      "text/plain": [
       "dict_keys(['api-key', 'access-read'])"
      ]
     },
     "execution_count": 9,
     "metadata": {},
     "output_type": "execute_result"
    }
   ],
   "source": [
    "with open (\"/Users/Beemo/.secret/tmdb.json\") as f:\n",
    "    login = json.load(f)\n",
    "login.keys()"
   ]
  },
  {
   "cell_type": "code",
   "execution_count": 15,
   "id": "d7b50df3",
   "metadata": {},
   "outputs": [],
   "source": [
    "tmdb.API_KEY = login['api-key']"
   ]
  },
  {
   "cell_type": "code",
   "execution_count": 25,
   "id": "c151da13",
   "metadata": {},
   "outputs": [],
   "source": [
    "movie = tmdb.Movies(68)\n",
    "info = movie.info()"
   ]
  },
  {
   "cell_type": "code",
   "execution_count": 26,
   "id": "0075cfde",
   "metadata": {},
   "outputs": [
    {
     "data": {
      "text/plain": [
       "9900000"
      ]
     },
     "execution_count": 26,
     "metadata": {},
     "output_type": "execute_result"
    }
   ],
   "source": [
    "#Extracting Revenue\n",
    "movie.revenue"
   ]
  },
  {
   "cell_type": "code",
   "execution_count": 17,
   "id": "c0465fc1",
   "metadata": {},
   "outputs": [],
   "source": [
    "#Extracting Budget \n",
    "movie.b"
   ]
  },
  {
   "cell_type": "code",
   "execution_count": 18,
   "id": "7ed243f3",
   "metadata": {},
   "outputs": [],
   "source": [
    "#Extracting Certification (P, PG, etc...)\n"
   ]
  },
  {
   "cell_type": "code",
   "execution_count": null,
   "id": "54449e6e",
   "metadata": {},
   "outputs": [],
   "source": []
  }
 ],
 "metadata": {
  "kernelspec": {
   "display_name": "Python (dojo-env)",
   "language": "python",
   "name": "dojo-env"
  },
  "language_info": {
   "codemirror_mode": {
    "name": "ipython",
    "version": 3
   },
   "file_extension": ".py",
   "mimetype": "text/x-python",
   "name": "python",
   "nbconvert_exporter": "python",
   "pygments_lexer": "ipython3",
   "version": "3.8.13"
  },
  "toc": {
   "base_numbering": 1,
   "nav_menu": {},
   "number_sections": true,
   "sideBar": true,
   "skip_h1_title": false,
   "title_cell": "Table of Contents",
   "title_sidebar": "Contents",
   "toc_cell": false,
   "toc_position": {},
   "toc_section_display": true,
   "toc_window_display": false
  }
 },
 "nbformat": 4,
 "nbformat_minor": 5
}
