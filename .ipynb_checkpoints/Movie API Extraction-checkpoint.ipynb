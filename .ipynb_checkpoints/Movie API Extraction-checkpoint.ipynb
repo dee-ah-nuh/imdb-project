{
 "cells": [
  {
   "cell_type": "code",
   "execution_count": 5,
   "id": "a1e5ed14",
   "metadata": {},
   "outputs": [],
   "source": [
    "#TMDB\n",
    "#example api call: \n",
    "#https://api.themoviedb.org/3/movie/550?api_key={api-key}\n",
    "#theres a python wrapper for better api extraction"
   ]
  },
  {
   "cell_type": "code",
   "execution_count": 14,
   "id": "0d94dec1",
   "metadata": {},
   "outputs": [],
   "source": [
    "import pandas as pd\n",
    "import numpy as np\n",
    "import os \n",
    "import time \n",
    "import seaborn\n",
    "import json\n",
    "import tmdbsimple as tmdb"
   ]
  },
  {
   "cell_type": "code",
   "execution_count": 9,
   "id": "b6962239",
   "metadata": {},
   "outputs": [
    {
     "data": {
      "text/plain": [
       "dict_keys(['api-key', 'access-read'])"
      ]
     },
     "execution_count": 9,
     "metadata": {},
     "output_type": "execute_result"
    }
   ],
   "source": [
    "with open (\"/Users/Beemo/.secret/tmdb.json\") as f:\n",
    "    login = json.load(f)\n",
    "login.keys()"
   ]
  },
  {
   "cell_type": "code",
   "execution_count": 15,
   "id": "7d885a80",
   "metadata": {},
   "outputs": [],
   "source": [
    "tmdb.API_KEY = login['api-key']"
   ]
  },
  {
   "cell_type": "code",
   "execution_count": 25,
   "id": "666f99ee",
   "metadata": {},
   "outputs": [],
   "source": [
    "movie = tmdb.Movies(68)\n",
    "info = movie.info()"
   ]
  },
  {
   "cell_type": "code",
   "execution_count": 26,
   "id": "6c35af5c",
   "metadata": {},
   "outputs": [
    {
     "data": {
      "text/plain": [
       "9900000"
      ]
     },
     "execution_count": 26,
     "metadata": {},
     "output_type": "execute_result"
    }
   ],
   "source": [
    "#Extracting Revenue\n",
    "movie.revenue"
   ]
  },
  {
   "cell_type": "code",
   "execution_count": 27,
   "id": "c49c54f1",
   "metadata": {},
   "outputs": [
    {
     "data": {
      "text/plain": [
       "15000000"
      ]
     },
     "execution_count": 27,
     "metadata": {},
     "output_type": "execute_result"
    }
   ],
   "source": [
    "#Extracting Budget \n",
    "movie.budget"
   ]
  },
  {
   "cell_type": "code",
   "execution_count": 29,
   "id": "22d5bfd4",
   "metadata": {},
   "outputs": [
    {
     "ename": "AttributeError",
     "evalue": "'Movies' object has no attribute 'cert'",
     "output_type": "error",
     "traceback": [
      "\u001b[1;31m---------------------------------------------------------------------------\u001b[0m",
      "\u001b[1;31mAttributeError\u001b[0m                            Traceback (most recent call last)",
      "Input \u001b[1;32mIn [29]\u001b[0m, in \u001b[0;36m<cell line: 2>\u001b[1;34m()\u001b[0m\n\u001b[0;32m      1\u001b[0m \u001b[38;5;66;03m#Extracting Certification (P, PG, etc...)\u001b[39;00m\n\u001b[1;32m----> 2\u001b[0m \u001b[43mmovie\u001b[49m\u001b[38;5;241;43m.\u001b[39;49m\u001b[43mcert\u001b[49m\n",
      "\u001b[1;31mAttributeError\u001b[0m: 'Movies' object has no attribute 'cert'"
     ]
    }
   ],
   "source": [
    "#Extracting Certification (P, PG, etc...)\n",
    "movie.cert"
   ]
  },
  {
   "cell_type": "code",
   "execution_count": null,
   "id": "67f5a885",
   "metadata": {},
   "outputs": [],
   "source": []
  }
 ],
 "metadata": {
  "kernelspec": {
   "display_name": "Python (dojo-env)",
   "language": "python",
   "name": "dojo-env"
  },
  "language_info": {
   "codemirror_mode": {
    "name": "ipython",
    "version": 3
   },
   "file_extension": ".py",
   "mimetype": "text/x-python",
   "name": "python",
   "nbconvert_exporter": "python",
   "pygments_lexer": "ipython3",
   "version": "3.8.13"
  },
  "toc": {
   "base_numbering": 1,
   "nav_menu": {},
   "number_sections": true,
   "sideBar": true,
   "skip_h1_title": false,
   "title_cell": "Table of Contents",
   "title_sidebar": "Contents",
   "toc_cell": false,
   "toc_position": {},
   "toc_section_display": true,
   "toc_window_display": false
  }
 },
 "nbformat": 4,
 "nbformat_minor": 5
}
